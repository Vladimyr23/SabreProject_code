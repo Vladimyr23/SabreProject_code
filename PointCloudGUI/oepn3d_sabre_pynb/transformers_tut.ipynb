{
 "cells": [
  {
   "cell_type": "markdown",
   "id": "6820b800",
   "metadata": {},
   "source": [
    "# Tutorial from: https://deeplearning.neuromatch.io/tutorials/W2D5_AttentionAndTransformers/student/W2D5_Tutorial1.html"
   ]
  },
  {
   "cell_type": "code",
   "execution_count": null,
   "id": "0ae94cdd",
   "metadata": {},
   "outputs": [],
   "source": [
    "# # @title Install dependencies\n",
    "# # @markdown There may be *errors* and/or *warnings* reported during the installation. However, they are to be ignored.\n",
    "# !pip install tensorboard --quiet\n",
    "# !pip install transformers --quiet\n",
    "# !pip install datasets --quiet\n",
    "# !pip install pytorch_pretrained_bert --quiet\n",
    "# !pip install torchtext --quiet\n",
    "# !pip install --upgrade gensim --quiet"
   ]
  },
  {
   "cell_type": "code",
   "execution_count": null,
   "id": "f9d8f410",
   "metadata": {},
   "outputs": [],
   "source": [
    "# @title Install and import feedback gadget\n",
    "\n",
    "!pip3 install vibecheck datatops --quiet\n",
    "\n",
    "from vibecheck import DatatopsContentReviewContainer\n",
    "def content_review(notebook_section: str):\n",
    "    return DatatopsContentReviewContainer(\n",
    "        \"\",  # No text prompt\n",
    "        notebook_section,\n",
    "        {\n",
    "            \"url\": \"https://pmyvdlilci.execute-api.us-east-1.amazonaws.com/klab\",\n",
    "            \"name\": \"neuromatch_dl\",\n",
    "            \"user_key\": \"f379rz8y\",\n",
    "        },\n",
    "    ).render()\n",
    "\n",
    "\n",
    "feedback_prefix = \"W2D5_T1\""
   ]
  },
  {
   "cell_type": "code",
   "execution_count": null,
   "id": "50fcb63d",
   "metadata": {},
   "outputs": [],
   "source": [
    "# @title Set environment variables\n",
    "\n",
    "import os\n",
    "os.environ['TA_CACHE_DIR'] = 'data/'\n",
    "os.environ['NLTK_DATA'] = 'nltk_data/'"
   ]
  },
  {
   "cell_type": "code",
   "execution_count": 10,
   "id": "d9e84c90",
   "metadata": {
    "scrolled": true
   },
   "outputs": [],
   "source": [
    "# Imports\n",
    "import os\n",
    "import sys\n",
    "import math\n",
    "import nltk\n",
    "import torch\n",
    "import random\n",
    "import string\n",
    "import datasets\n",
    "import statistics\n",
    "\n",
    "import numpy as np\n",
    "import pandas as pd\n",
    "import torch.nn as nn\n",
    "import matplotlib.pyplot as plt\n",
    "\n",
    "from nltk.corpus import brown\n",
    "from gensim.models import Word2Vec\n",
    "from sklearn.manifold import TSNE\n",
    "\n",
    "from torch import nn\n",
    "import torch.nn.functional as F\n",
    "from torch.autograd import Variable\n",
    "from torchtext.vocab import Vectors\n",
    "\n",
    "from pprint import pprint\n",
    "from tqdm.notebook import tqdm\n",
    "from abc import ABC, abstractmethod\n",
    "\n",
    "from pytorch_pretrained_bert import BertTokenizer\n",
    "from pytorch_pretrained_bert import BertForMaskedLM\n",
    "\n",
    "from transformers import AutoTokenizer\n",
    "\n",
    "%load_ext tensorboard"
   ]
  },
  {
   "cell_type": "code",
   "execution_count": 12,
   "id": "b5234f83",
   "metadata": {},
   "outputs": [],
   "source": [
    "# @title Figure settings\n",
    "import logging\n",
    "logging.getLogger('matplotlib.font_manager').disabled = True\n",
    "\n",
    "import ipywidgets as widgets  # interactive display\n",
    "%config InlineBackend.figure_format = 'retina'\n",
    "plt.style.use(\"https://raw.githubusercontent.com/NeuromatchAcademy/content-creation/main/nma.mplstyle\")"
   ]
  },
  {
   "cell_type": "code",
   "execution_count": 16,
   "id": "c05a30f0",
   "metadata": {},
   "outputs": [
    {
     "name": "stderr",
     "output_type": "stream",
     "text": [
      "[nltk_data] Downloading package punkt to /home/mekala/nltk_data...\n",
      "[nltk_data]   Unzipping tokenizers/punkt.zip.\n",
      "[nltk_data] Downloading package averaged_perceptron_tagger to\n",
      "[nltk_data]     /home/mekala/nltk_data...\n",
      "[nltk_data]   Unzipping taggers/averaged_perceptron_tagger.zip.\n",
      "[nltk_data] Downloading package brown to /home/mekala/nltk_data...\n",
      "[nltk_data]   Unzipping corpora/brown.zip.\n",
      "[nltk_data] Downloading package webtext to /home/mekala/nltk_data...\n",
      "[nltk_data]   Unzipping corpora/webtext.zip.\n"
     ]
    }
   ],
   "source": [
    "# @title Download NLTK data (`punkt`, `averaged_perceptron_tagger`, `brown`, `webtext`)\n",
    "\n",
    "\n",
    "#NLTK Download:\n",
    "\n",
    "import nltk\n",
    "nltk.download('punkt')\n",
    "nltk.download('averaged_perceptron_tagger')\n",
    "nltk.download('brown')\n",
    "nltk.download('webtext')\n",
    "\n",
    "\n",
    "import os, requests, zipfile\n",
    "\n",
    "os.environ['NLTK_DATA'] = 'nltk_data/'\n",
    "\n",
    "fname = 'nltk_data.zip'\n",
    "url = 'https://osf.io/download/zqw5s/'\n",
    "\n",
    "r = requests.get(url, allow_redirects=True)\n",
    "\n",
    "with open(fname, 'wb') as fd:\n",
    "  fd.write(r.content)\n",
    "\n",
    "with zipfile.ZipFile(fname, 'r') as zip_ref:\n",
    "  zip_ref.extractall('.')"
   ]
  },
  {
   "cell_type": "code",
   "execution_count": 17,
   "id": "321c36c4",
   "metadata": {},
   "outputs": [],
   "source": [
    "# @title Helper functions\n",
    "global category\n",
    "global brown_wordlist\n",
    "global w2vmodel\n",
    "category = ['editorial', 'fiction', 'government', 'mystery', 'news',\n",
    "                   'religion', 'reviews', 'romance', 'science_fiction']\n",
    "brown_wordlist = list(brown.words(categories=category))\n",
    "\n",
    "def create_word2vec_model(category = 'news', size = 50, sg = 1, min_count = 10):\n",
    "    sentences = brown.sents(categories=category)\n",
    "    model = Word2Vec(sentences, vector_size=size, sg=sg, min_count=min_count)\n",
    "    return model\n",
    "\n",
    "w2vmodel = create_word2vec_model(category)\n",
    "\n",
    "def model_dictionary(model):\n",
    "  print(w2vmodel.wv)\n",
    "  words = list(w2vmodel.wv)\n",
    "  return words\n",
    "\n",
    "def get_embedding(word, model):\n",
    "  try:\n",
    "    return model.wv[word]\n",
    "  except KeyError:\n",
    "    print(f' |{word}| not in model dictionary. Try another word')\n",
    "\n",
    "def check_word_in_corpus(word, model):\n",
    "  try:\n",
    "    word_embedding = model.wv[word]\n",
    "    print('Word present!')\n",
    "    return word_embedding\n",
    "  except KeyError:\n",
    "    print('Word NOT present!')\n",
    "    return None\n",
    "\n",
    "def get_embeddings(words,model):\n",
    "  size = w2vmodel.layer1_size\n",
    "  embed_list = [get_embedding(word,model) for word in words]\n",
    "  return np.array(embed_list)\n",
    "\n",
    "def softmax(x):\n",
    "    f_x = np.exp(x) / np.sum(np.exp(x))\n",
    "    return f_x"
   ]
  },
  {
   "cell_type": "code",
   "execution_count": 18,
   "id": "3ff9701b",
   "metadata": {},
   "outputs": [],
   "source": [
    "# @title Set random seed\n",
    "\n",
    "# @markdown Executing `set_seed(seed=seed)` you are setting the seed\n",
    "\n",
    "# for DL its critical to set the random seed so that students can have a\n",
    "# baseline to compare their results to expected results.\n",
    "# Read more here: https://pytorch.org/docs/stable/notes/randomness.html\n",
    "\n",
    "# Call `set_seed` function in the exercises to ensure reproducibility.\n",
    "import random\n",
    "import torch\n",
    "\n",
    "def set_seed(seed=None, seed_torch=True):\n",
    "  \"\"\"\n",
    "  Handles variability by controlling sources of randomness\n",
    "  through set seed values\n",
    "\n",
    "  Args:\n",
    "    seed: Integer\n",
    "      Set the seed value to given integer.\n",
    "      If no seed, set seed value to random integer in the range 2^32\n",
    "    seed_torch: Bool\n",
    "      Seeds the random number generator for all devices to\n",
    "      offer some guarantees on reproducibility\n",
    "\n",
    "  Returns:\n",
    "    Nothing\n",
    "  \"\"\"\n",
    "  if seed is None:\n",
    "    seed = np.random.choice(2 ** 32)\n",
    "  random.seed(seed)\n",
    "  np.random.seed(seed)\n",
    "  if seed_torch:\n",
    "    torch.manual_seed(seed)\n",
    "    torch.cuda.manual_seed_all(seed)\n",
    "    torch.cuda.manual_seed(seed)\n",
    "    torch.backends.cudnn.benchmark = False\n",
    "    torch.backends.cudnn.deterministic = True\n",
    "\n",
    "  print(f'Random seed {seed} has been set.')\n",
    "\n",
    "\n",
    "# In case that `DataLoader` is used\n",
    "def seed_worker(worker_id):\n",
    "  \"\"\"\n",
    "  DataLoader will reseed workers following randomness in\n",
    "  multi-process data loading algorithm.\n",
    "\n",
    "  Args:\n",
    "    worker_id: integer\n",
    "      ID of subprocess to seed. 0 means that\n",
    "      the data will be loaded in the main process\n",
    "      Refer: https://pytorch.org/docs/stable/data.html#data-loading-randomness for more details\n",
    "\n",
    "  Returns:\n",
    "    Nothing\n",
    "  \"\"\"\n",
    "  worker_seed = torch.initial_seed() % 2**32\n",
    "  np.random.seed(worker_seed)\n",
    "  random.seed(worker_seed)"
   ]
  },
  {
   "cell_type": "code",
   "execution_count": 19,
   "id": "bf0c2dab",
   "metadata": {},
   "outputs": [],
   "source": [
    "# @title Set device (GPU or CPU). Execute `set_device()`\n",
    "# especially if torch modules used.\n",
    "\n",
    "# inform the user if the notebook uses GPU or CPU.\n",
    "\n",
    "def set_device():\n",
    "  \"\"\"\n",
    "  Set the device. CUDA if available, CPU otherwise\n",
    "\n",
    "  Args:\n",
    "    None\n",
    "\n",
    "  Returns:\n",
    "    Nothing\n",
    "  \"\"\"\n",
    "  device = \"cuda\" if torch.cuda.is_available() else \"cpu\"\n",
    "  if device != \"cuda\":\n",
    "    print(\"WARNING: For this notebook to perform best, \"\n",
    "        \"if possible, in the menu under `Runtime` -> \"\n",
    "        \"`Change runtime type.`  select `GPU` \")\n",
    "  else:\n",
    "    print(\"GPU is enabled in this notebook.\")\n",
    "\n",
    "  return device"
   ]
  },
  {
   "cell_type": "code",
   "execution_count": 20,
   "id": "0dcfee84",
   "metadata": {},
   "outputs": [
    {
     "name": "stdout",
     "output_type": "stream",
     "text": [
      "Random seed 2021 has been set.\n",
      "GPU is enabled in this notebook.\n"
     ]
    }
   ],
   "source": [
    "SEED = 2021\n",
    "set_seed(seed=SEED)\n",
    "DEVICE = set_device()"
   ]
  },
  {
   "cell_type": "markdown",
   "id": "cd27d290",
   "metadata": {},
   "source": [
    "## Load Yelp dataset\n",
    "\n",
    "**Description**:\n",
    "\n",
    "YELP dataset contains a subset of Yelp's businesses/reviews and user data.\n",
    "\n",
    "    1,162,119 tips by 2,189,457 users\n",
    "    Over 1.2 million business attributes like hours, parking, availability, and ambience\n",
    "    Aggregated check-ins over time for each of the 138,876 businesses\n",
    "\n",
    "Each file is composed of a single object type, one JSON-object per-line.\n",
    "For detailed structure, see [here](https://www.yelp.com/dataset/documentation/main)."
   ]
  },
  {
   "cell_type": "markdown",
   "id": "a879f1e1",
   "metadata": {},
   "source": [
    "Each file is composed of a single object type, one JSON-object per-line. For detailed structure, see here(https://www.yelp.com/dataset/documentation/main)."
   ]
  },
  {
   "cell_type": "code",
   "execution_count": 21,
   "id": "42500611",
   "metadata": {},
   "outputs": [],
   "source": [
    "# @title `load_yelp_data` helper function\n",
    "\n",
    "def load_yelp_data(DATASET, tokenizer):\n",
    "  \"\"\"\n",
    "  Load Train and Test sets from the YELP dataset.\n",
    "\n",
    "  Args:\n",
    "    DATASET: datasets.dataset_dict.DatasetDict\n",
    "      Dataset dictionary object containing 'train' and 'test' sets of YELP reviews and sentiment classes\n",
    "    tokenizer: Transformer autotokenizer object\n",
    "      Downloaded vocabulary from bert-base-cased and cache.\n",
    "\n",
    "  Returns:\n",
    "    train_loader: Iterable\n",
    "      Dataloader for the Training set with corresponding batch size\n",
    "    test_loader: Iterable\n",
    "      Dataloader for the Test set with corresponding batch size\n",
    "    max_len: Integer\n",
    "      Input sequence size\n",
    "    vocab_size: Integer\n",
    "      Size of the base vocabulary (without the added tokens).\n",
    "    num_classes: Integer\n",
    "      Number of sentiment class labels\n",
    "  \"\"\"\n",
    "  dataset = DATASET\n",
    "  dataset['train'] = dataset['train'].select(range(10000))\n",
    "  dataset['test'] = dataset['test'].select(range(5000))\n",
    "  dataset = dataset.map(lambda e: tokenizer(e['text'], truncation=True,\n",
    "                                            padding='max_length'), batched=True)\n",
    "  dataset.set_format(type='torch', columns=['input_ids', 'label'])\n",
    "\n",
    "  train_loader = torch.utils.data.DataLoader(dataset['train'], batch_size=32)\n",
    "  test_loader = torch.utils.data.DataLoader(dataset['test'], batch_size=32)\n",
    "\n",
    "  vocab_size = tokenizer.vocab_size\n",
    "  max_len = next(iter(train_loader))['input_ids'].shape[0]\n",
    "  num_classes = next(iter(train_loader))['label'].shape[0]\n",
    "\n",
    "  return train_loader, test_loader, max_len, vocab_size, num_classes"
   ]
  },
  {
   "cell_type": "code",
   "execution_count": 22,
   "id": "b5212128",
   "metadata": {},
   "outputs": [
    {
     "name": "stdout",
     "output_type": "stream",
     "text": [
      "Dataset is being downloading...\n",
      "Download is finished.\n",
      "Files have been extracted.\n"
     ]
    },
    {
     "name": "stderr",
     "output_type": "stream",
     "text": [
      "Downloading builder script: 4.41kB [00:00, 4.33MB/s]\n",
      "Downloading metadata: 2.04kB [00:00, 2.56MB/s]\n",
      "Downloading readme: 6.55kB [00:00, 6.64MB/s]\n",
      "Found cached dataset yelp_review_full (/home/mekala/jupyter_books/Transformers/data/yelp_review_full/yelp_review_full/1.0.0/e8e18e19d7be9e75642fc66b198abadb116f73599ec89a69ba5dd8d1e57ba0bf)\n",
      "100%|██████████| 2/2 [00:00<00:00, 529.65it/s]"
     ]
    },
    {
     "name": "stdout",
     "output_type": "stream",
     "text": [
      "<class 'datasets.dataset_dict.DatasetDict'>\n"
     ]
    },
    {
     "name": "stderr",
     "output_type": "stream",
     "text": [
      "\n"
     ]
    }
   ],
   "source": [
    "# @title Download and load the dataset\n",
    "\n",
    "import requests, tarfile\n",
    "\n",
    "os.environ['HF_DATASETS_CACHE'] = 'data/'\n",
    "\n",
    "url = \"https://osf.io/kthjg/download\"\n",
    "fname = \"huggingface.tar.gz\"\n",
    "\n",
    "if not os.path.exists(fname):\n",
    "  print('Dataset is being downloading...')\n",
    "  r = requests.get(url, allow_redirects=True)\n",
    "  with open(fname, 'wb') as fd:\n",
    "    fd.write(r.content)\n",
    "  print('Download is finished.')\n",
    "\n",
    "  with tarfile.open(fname) as ft:\n",
    "    ft.extractall('data/')\n",
    "  print('Files have been extracted.')\n",
    "\n",
    "DATASET = datasets.load_dataset(\"yelp_review_full\",\n",
    "                                download_mode=\"reuse_dataset_if_exists\",\n",
    "                                cache_dir='data/')\n",
    "\n",
    "# If the above produces an error uncomment below:\n",
    "# DATASET = load_dataset(\"yelp_review_full\", ignore_verifications=True)\n",
    "print(type(DATASET))"
   ]
  },
  {
   "cell_type": "code",
   "execution_count": 23,
   "id": "7c5173ca",
   "metadata": {},
   "outputs": [
    {
     "name": "stderr",
     "output_type": "stream",
     "text": [
      "Downloading (…)okenizer_config.json: 100%|██████████| 29.0/29.0 [00:00<00:00, 68.4kB/s]\n",
      "Downloading (…)lve/main/config.json: 100%|██████████| 570/570 [00:00<00:00, 510kB/s]\n",
      "Downloading (…)solve/main/vocab.txt: 213kB [00:00, 1.45MB/s]\n",
      "Downloading (…)/main/tokenizer.json: 436kB [00:00, 2.83MB/s]\n",
      "                                                                   \r"
     ]
    }
   ],
   "source": [
    "tokenizer = AutoTokenizer.from_pretrained('bert-base-cased', cache_dir='data/')\n",
    "train_loader, test_loader, max_len, vocab_size, num_classes = load_yelp_data(DATASET, tokenizer)\n",
    "\n",
    "pred_text = DATASET['test']['text'][28]\n",
    "actual_label = DATASET['test']['label'][28]\n",
    "batch1 = next(iter(test_loader))"
   ]
  },
  {
   "cell_type": "code",
   "execution_count": 24,
   "id": "d4966a43",
   "metadata": {},
   "outputs": [],
   "source": [
    "# @title Helper functions for BERT infilling\n",
    "\n",
    "def transform_sentence_for_bert(sent, masked_word = \"___\"):\n",
    "  \"\"\"\n",
    "  By default takes a sentence with ___ instead of a masked word.\n",
    "\n",
    "  Args:\n",
    "    sent: String\n",
    "      An input sentence\n",
    "    masked_word: String\n",
    "      Masked part of the sentence\n",
    "\n",
    "  Returns:\n",
    "    str: String\n",
    "      Sentence that could be mapped to BERT\n",
    "  \"\"\"\n",
    "  splitted = sent.split(\"___\")\n",
    "  assert (len(splitted) == 2), \"Missing masked word. Make sure to mark it as ___\"\n",
    "\n",
    "  return '[CLS] ' + splitted[0] + \"[MASK]\" + splitted[1] + ' [SEP]'\n",
    "\n",
    "\n",
    "def parse_text_and_words(raw_line, mask = \"___\"):\n",
    "  \"\"\"\n",
    "  Takes a line that has multiple options for some position in the text.\n",
    "\n",
    "  Usage/Example:\n",
    "    Input: The doctor picked up his/her bag\n",
    "    Output: (The doctor picked up ___ bag, ['his', 'her'])\n",
    "\n",
    "  Args:\n",
    "    raw_line: String\n",
    "      A line aligning with format - 'some text option1/.../optionN some text'\n",
    "    mask: String\n",
    "      The replacement for .../... section\n",
    "\n",
    "  Returns:\n",
    "    str: String\n",
    "      Text with mask instead of .../... section\n",
    "    list: List\n",
    "      List of words from the .../... section\n",
    "  \"\"\"\n",
    "  splitted = raw_line.split(' ')\n",
    "  mask_index = -1\n",
    "  for i in range(len(splitted)):\n",
    "    if \"/\" in splitted[i]:\n",
    "      mask_index = i\n",
    "      break\n",
    "  assert(mask_index != -1), \"No '/'-separated words\"\n",
    "  words = splitted[mask_index].split('/')\n",
    "  splitted[mask_index] = mask\n",
    "  return \" \".join(splitted), words\n",
    "\n",
    "\n",
    "def get_probabilities_of_masked_words(text, words):\n",
    "  \"\"\"\n",
    "  Computes probabilities of each word in the masked section of the text.\n",
    "\n",
    "  Args:\n",
    "    text: String\n",
    "      A sentence with ___ instead of a masked word.\n",
    "    words: List\n",
    "      Array of words.\n",
    "\n",
    "  Returns:\n",
    "    list: List\n",
    "      Predicted probabilities for given words.\n",
    "  \"\"\"\n",
    "  text = transform_sentence_for_bert(text)\n",
    "  tokenizer = BertTokenizer.from_pretrained('bert-base-uncased')\n",
    "  for i in range(len(words)):\n",
    "    words[i] = tokenizer.tokenize(words[i])[0]\n",
    "  words_idx = [tokenizer.convert_tokens_to_ids([word]) for word in words]\n",
    "  tokenized_text = tokenizer.tokenize(text)\n",
    "  indexed_tokens = tokenizer.convert_tokens_to_ids(tokenized_text)\n",
    "  masked_index = tokenized_text.index('[MASK]')\n",
    "  tokens_tensor = torch.tensor([indexed_tokens])\n",
    "\n",
    "  pretrained_masked_model = BertForMaskedLM.from_pretrained('bert-base-uncased')\n",
    "  pretrained_masked_model.eval()\n",
    "\n",
    "  # Predict all tokens\n",
    "  with torch.no_grad():\n",
    "    predictions = pretrained_masked_model(tokens_tensor)\n",
    "  probabilities = F.softmax(predictions[0][masked_index], dim = 0)\n",
    "  predicted_index = torch.argmax(probabilities).item()\n",
    "\n",
    "  return [probabilities[ix].item() for ix in words_idx]"
   ]
  },
  {
   "cell_type": "code",
   "execution_count": 25,
   "id": "8fe405b5",
   "metadata": {},
   "outputs": [
    {
     "name": "stdout",
     "output_type": "stream",
     "text": [
      "Video available at https://youtube.com/watch?v=UnuSQeT8GqQ\n"
     ]
    },
    {
     "data": {
      "image/jpeg": "[encoded data removed]",
      "text/html": [
       "\n",
       "        <iframe\n",
       "            width=\"854\"\n",
       "            height=\"480\"\n",
       "            src=\"https://www.youtube.com/embed/UnuSQeT8GqQ?fs=1&rel=0\"\n",
       "            frameborder=\"0\"\n",
       "            allowfullscreen\n",
       "            \n",
       "        ></iframe>\n",
       "        "
      ],
      "text/plain": [
       "<IPython.lib.display.YouTubeVideo at 0x7fb261934610>"
      ]
     },
     "metadata": {},
     "output_type": "display_data"
    },
    {
     "name": "stdout",
     "output_type": "stream",
     "text": [
      "Video available at https://www.bilibili.com/video/BV1hf4y1j7XE\n"
     ]
    },
    {
     "data": {
      "text/html": [
       "\n",
       "        <iframe\n",
       "            width=\"854\"\n",
       "            height=\"480\"\n",
       "            src=\"https://player.bilibili.com/player.html?bvid=BV1hf4y1j7XE&page=1?fs=1&autoplay=False\"\n",
       "            frameborder=\"0\"\n",
       "            allowfullscreen\n",
       "            \n",
       "        ></iframe>\n",
       "        "
      ],
      "text/plain": [
       "<__main__.PlayVideo at 0x7fb2637f0dd0>"
      ]
     },
     "metadata": {},
     "output_type": "display_data"
    },
    {
     "data": {
      "application/vnd.jupyter.widget-view+json": {
       "model_id": "ae380283ac754f32809c546e60454c2d",
       "version_major": 2,
       "version_minor": 0
      },
      "text/plain": [
       "Tab(children=(Output(), Output()), selected_index=0, titles=('Youtube', 'Bilibili'))"
      ]
     },
     "metadata": {},
     "output_type": "display_data"
    }
   ],
   "source": [
    "# @title Video 1: Introduction\n",
    "from ipywidgets import widgets\n",
    "from IPython.display import YouTubeVideo\n",
    "from IPython.display import IFrame\n",
    "from IPython.display import display\n",
    "\n",
    "\n",
    "class PlayVideo(IFrame):\n",
    "  def __init__(self, id, source, page=1, width=400, height=300, **kwargs):\n",
    "    self.id = id\n",
    "    if source == 'Bilibili':\n",
    "      src = f'https://player.bilibili.com/player.html?bvid={id}&page={page}'\n",
    "    elif source == 'Osf':\n",
    "      src = f'https://mfr.ca-1.osf.io/render?url=https://osf.io/download/{id}/?direct%26mode=render'\n",
    "    super(PlayVideo, self).__init__(src, width, height, **kwargs)\n",
    "\n",
    "\n",
    "def display_videos(video_ids, W=400, H=300, fs=1):\n",
    "  tab_contents = []\n",
    "  for i, video_id in enumerate(video_ids):\n",
    "    out = widgets.Output()\n",
    "    with out:\n",
    "      if video_ids[i][0] == 'Youtube':\n",
    "        video = YouTubeVideo(id=video_ids[i][1], width=W,\n",
    "                             height=H, fs=fs, rel=0)\n",
    "        print(f'Video available at https://youtube.com/watch?v={video.id}')\n",
    "      else:\n",
    "        video = PlayVideo(id=video_ids[i][1], source=video_ids[i][0], width=W,\n",
    "                          height=H, fs=fs, autoplay=False)\n",
    "        if video_ids[i][0] == 'Bilibili':\n",
    "          print(f'Video available at https://www.bilibili.com/video/{video.id}')\n",
    "        elif video_ids[i][0] == 'Osf':\n",
    "          print(f'Video available at https://osf.io/{video.id}')\n",
    "      display(video)\n",
    "    tab_contents.append(out)\n",
    "  return tab_contents\n",
    "\n",
    "\n",
    "video_ids = [('Youtube', 'UnuSQeT8GqQ'), ('Bilibili', 'BV1hf4y1j7XE')]\n",
    "tab_contents = display_videos(video_ids, W=854, H=480)\n",
    "tabs = widgets.Tab()\n",
    "tabs.children = tab_contents\n",
    "for i in range(len(tab_contents)):\n",
    "  tabs.set_title(i, video_ids[i][0])\n",
    "display(tabs)"
   ]
  },
  {
   "cell_type": "code",
   "execution_count": 26,
   "id": "57722a0d",
   "metadata": {},
   "outputs": [
    {
     "ename": "NameError",
     "evalue": "name 'content_review' is not defined",
     "output_type": "error",
     "traceback": [
      "\u001b[0;31m---------------------------------------------------------------------------\u001b[0m",
      "\u001b[0;31mNameError\u001b[0m                                 Traceback (most recent call last)",
      "Cell \u001b[0;32mIn[26], line 2\u001b[0m\n\u001b[1;32m      1\u001b[0m \u001b[38;5;66;03m# @title Submit your feedback\u001b[39;00m\n\u001b[0;32m----> 2\u001b[0m content_review(\u001b[38;5;124mf\u001b[39m\u001b[38;5;124m\"\u001b[39m\u001b[38;5;132;01m{\u001b[39;00mfeedback_prefix\u001b[38;5;132;01m}\u001b[39;00m\u001b[38;5;124m_Introduction_Video\u001b[39m\u001b[38;5;124m\"\u001b[39m)\n",
      "\u001b[0;31mNameError\u001b[0m: name 'content_review' is not defined"
     ]
    }
   ],
   "source": [
    "# # @title Submit your feedback\n",
    "# content_review(f\"{feedback_prefix}_Introduction_Video\")"
   ]
  },
  {
   "cell_type": "code",
   "execution_count": null,
   "id": "2794a265",
   "metadata": {},
   "outputs": [],
   "source": []
  }
 ],
 "metadata": {
  "kernelspec": {
   "display_name": "Python [conda env:gpu_env] *",
   "language": "python",
   "name": "conda-env-gpu_env-py"
  },
  "language_info": {
   "codemirror_mode": {
    "name": "ipython",
    "version": 3
   },
   "file_extension": ".py",
   "mimetype": "text/x-python",
   "name": "python",
   "nbconvert_exporter": "python",
   "pygments_lexer": "ipython3",
   "version": "3.11.3"
  }
 },
 "nbformat": 4,
 "nbformat_minor": 5
}
