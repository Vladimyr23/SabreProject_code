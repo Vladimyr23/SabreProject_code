{
 "cells": [
  {
   "cell_type": "code",
   "execution_count": 1,
   "id": "adad9da3",
   "metadata": {},
   "outputs": [],
   "source": [
    "import pandas as pd"
   ]
  },
  {
   "cell_type": "code",
   "execution_count": 33,
   "id": "9e89b3a2",
   "metadata": {},
   "outputs": [],
   "source": [
    "# open file and extract text\n",
    "file_path = '/home/mekala/Pictures/multiway registration/hw18may0001_0002/'\n",
    "file_name = 'document'\n",
    "text_path = file_path + file_name\n",
    "with open(text_path) as f:\n",
    "    text = f.read()\n"
   ]
  },
  {
   "cell_type": "code",
   "execution_count": 34,
   "id": "2bba0eb7",
   "metadata": {},
   "outputs": [],
   "source": [
    "# split text into a list\n",
    "lines = text.split('\\n')"
   ]
  },
  {
   "cell_type": "code",
   "execution_count": 36,
   "id": "1525d05a",
   "metadata": {},
   "outputs": [
    {
     "name": "stdout",
     "output_type": "stream",
     "text": [
      "['Full registration ...', \"Pcd's #:  2\", 'Apply point-to-plane ICP', ' PointCloud with 2078535 points. PointCloud with 5184721 points.', '[Open3D DEBUG] ICP Iteration #0: Fitness 0.0069, RMSE 0.1798']\n"
     ]
    }
   ],
   "source": [
    "print(lines[0:5])"
   ]
  },
  {
   "cell_type": "code",
   "execution_count": 37,
   "id": "3d54de7b",
   "metadata": {},
   "outputs": [
    {
     "name": "stdout",
     "output_type": "stream",
     "text": [
      "['[Open3D DEBUG] ICP Iteration #0: Fitness 0.0069, RMSE 0.1798', '[Open3D DEBUG] ICP Iteration #1: Fitness 0.0102, RMSE 0.1483', '[Open3D DEBUG] ICP Iteration #2: Fitness 0.0121, RMSE 0.1371', '[Open3D DEBUG] ICP Iteration #3: Fitness 0.0137, RMSE 0.1316', '[Open3D DEBUG] ICP Iteration #4: Fitness 0.0150, RMSE 0.1261']\n"
     ]
    }
   ],
   "source": [
    "# remove heading\n",
    "#len_heading = 4\n",
    "lines = lines[4:]\n",
    "print(lines[0:5])"
   ]
  },
  {
   "cell_type": "code",
   "execution_count": 39,
   "id": "66803de2",
   "metadata": {},
   "outputs": [
    {
     "name": "stdout",
     "output_type": "stream",
     "text": [
      "['[Open3D DEBUG] ICP Iteration #29: Fitness 0.0126, RMSE 0.0177', 'Build o3d.pipelines.registration.PoseGraph', 'Optimizing PoseGraph ...', '[Open3D DEBUG] Validating PoseGraph - finished.', '[Open3D DEBUG] [GlobalOptimizationLM] Optimizing PoseGraph having 2 nodes and 1 edges.', '[Open3D DEBUG] Line process weight : 19.125900', '[Open3D DEBUG] [Initial     ] residual : 4.968827e-20, lambda : 6.332642e+10', '[Open3D DEBUG] Delta.norm() < 1.000000e-06 * (x.norm() + 1.000000e-06)', '[Open3D DEBUG] [GlobalOptimizationLM] total time : 0.000 sec.', '[Open3D DEBUG] [GlobalOptimizationLM] Optimizing PoseGraph having 2 nodes and 1 edges.', '[Open3D DEBUG] Line process weight : 19.125900', '[Open3D DEBUG] [Initial     ] residual : 4.968827e-20, lambda : 6.332642e+10', '[Open3D DEBUG] Delta.norm() < 1.000000e-06 * (x.norm() + 1.000000e-06)', '[Open3D DEBUG] [GlobalOptimizationLM] total time : 0.000 sec.', '[Open3D DEBUG] CompensateReferencePoseGraphNode : reference : 0', 'Transform points and display', '[[1. 0. 0. 0.]', ' [0. 1. 0. 0.]', ' [0. 0. 1. 0.]', ' [0. 0. 0. 1.]]', '[[ 9.99832286e-01  1.43602895e-02 -1.13657876e-02 -5.52066730e+03]', ' [-1.44492188e-02  9.99865327e-01 -7.78124210e-03  5.58870068e+03]', ' [ 1.12525161e-02  7.94416383e-03  9.99905131e-01 -7.40019459e+03]', ' [ 0.00000000e+00  0.00000000e+00  0.00000000e+00  1.00000000e+00]]', 'WARNING: Using soft CircularBuffer (6144 KiB)', 'FEngine (64 bits) created at 0x558c47fab910 (threading is enabled)', 'FEngine resolved backend: OpenGL', '']\n"
     ]
    }
   ],
   "source": [
    "print(lines[-28:])"
   ]
  },
  {
   "cell_type": "code",
   "execution_count": 40,
   "id": "47fe5a33",
   "metadata": {},
   "outputs": [
    {
     "name": "stdout",
     "output_type": "stream",
     "text": [
      "['[Open3D DEBUG] ICP Iteration #20: Fitness 0.0124, RMSE 0.0177', '[Open3D DEBUG] ICP Iteration #21: Fitness 0.0124, RMSE 0.0177', '[Open3D DEBUG] ICP Iteration #22: Fitness 0.0125, RMSE 0.0177', '[Open3D DEBUG] ICP Iteration #23: Fitness 0.0125, RMSE 0.0177', '[Open3D DEBUG] ICP Iteration #24: Fitness 0.0125, RMSE 0.0177', '[Open3D DEBUG] ICP Iteration #25: Fitness 0.0125, RMSE 0.0177', '[Open3D DEBUG] ICP Iteration #26: Fitness 0.0125, RMSE 0.0177', '[Open3D DEBUG] ICP Iteration #27: Fitness 0.0126, RMSE 0.0177', '[Open3D DEBUG] ICP Iteration #28: Fitness 0.0126, RMSE 0.0177', '[Open3D DEBUG] ICP Iteration #29: Fitness 0.0126, RMSE 0.0177']\n"
     ]
    }
   ],
   "source": [
    "# remove footer\n",
    "lines = lines[:len(lines)-27]\n",
    "print(lines[-10:])"
   ]
  },
  {
   "cell_type": "code",
   "execution_count": 41,
   "id": "55c8ddc9",
   "metadata": {},
   "outputs": [
    {
     "name": "stdout",
     "output_type": "stream",
     "text": [
      "60 ['[Open3D DEBUG] ICP Iteration #0: Fitness 0.0069, RMSE 0.1798', '[Open3D DEBUG] ICP Iteration #1: Fitness 0.0102, RMSE 0.1483', '[Open3D DEBUG] ICP Iteration #2: Fitness 0.0121, RMSE 0.1371', '[Open3D DEBUG] ICP Iteration #3: Fitness 0.0137, RMSE 0.1316', '[Open3D DEBUG] ICP Iteration #4: Fitness 0.0150, RMSE 0.1261', '[Open3D DEBUG] ICP Iteration #5: Fitness 0.0162, RMSE 0.1240', '[Open3D DEBUG] ICP Iteration #6: Fitness 0.0173, RMSE 0.1204', '[Open3D DEBUG] ICP Iteration #7: Fitness 0.0182, RMSE 0.1173', '[Open3D DEBUG] ICP Iteration #8: Fitness 0.0191, RMSE 0.1152', '[Open3D DEBUG] ICP Iteration #9: Fitness 0.0199, RMSE 0.1140', '[Open3D DEBUG] ICP Iteration #10: Fitness 0.0207, RMSE 0.1129', '[Open3D DEBUG] ICP Iteration #11: Fitness 0.0214, RMSE 0.1129', '[Open3D DEBUG] ICP Iteration #12: Fitness 0.0221, RMSE 0.1121', '[Open3D DEBUG] ICP Iteration #13: Fitness 0.0227, RMSE 0.1116', '[Open3D DEBUG] ICP Iteration #14: Fitness 0.0233, RMSE 0.1108', '[Open3D DEBUG] ICP Iteration #15: Fitness 0.0240, RMSE 0.1105', '[Open3D DEBUG] ICP Iteration #16: Fitness 0.0245, RMSE 0.1104', '[Open3D DEBUG] ICP Iteration #17: Fitness 0.0250, RMSE 0.1103', '[Open3D DEBUG] ICP Iteration #18: Fitness 0.0256, RMSE 0.1102', '[Open3D DEBUG] ICP Iteration #19: Fitness 0.0260, RMSE 0.1098', '[Open3D DEBUG] ICP Iteration #20: Fitness 0.0265, RMSE 0.1091', '[Open3D DEBUG] ICP Iteration #21: Fitness 0.0270, RMSE 0.1085', '[Open3D DEBUG] ICP Iteration #22: Fitness 0.0274, RMSE 0.1080', '[Open3D DEBUG] ICP Iteration #23: Fitness 0.0278, RMSE 0.1086', '[Open3D DEBUG] ICP Iteration #24: Fitness 0.0283, RMSE 0.1089', '[Open3D DEBUG] ICP Iteration #25: Fitness 0.0287, RMSE 0.1092', '[Open3D DEBUG] ICP Iteration #26: Fitness 0.0291, RMSE 0.1094', '[Open3D DEBUG] ICP Iteration #27: Fitness 0.0296, RMSE 0.1094', '[Open3D DEBUG] ICP Iteration #28: Fitness 0.0300, RMSE 0.1097', '[Open3D DEBUG] ICP Iteration #29: Fitness 0.0304, RMSE 0.1100', '[Open3D DEBUG] ICP Iteration #0: Fitness 0.0102, RMSE 0.0179', '[Open3D DEBUG] ICP Iteration #1: Fitness 0.0106, RMSE 0.0179', '[Open3D DEBUG] ICP Iteration #2: Fitness 0.0109, RMSE 0.0179', '[Open3D DEBUG] ICP Iteration #3: Fitness 0.0112, RMSE 0.0180', '[Open3D DEBUG] ICP Iteration #4: Fitness 0.0114, RMSE 0.0179', '[Open3D DEBUG] ICP Iteration #5: Fitness 0.0116, RMSE 0.0179', '[Open3D DEBUG] ICP Iteration #6: Fitness 0.0117, RMSE 0.0179', '[Open3D DEBUG] ICP Iteration #7: Fitness 0.0118, RMSE 0.0178', '[Open3D DEBUG] ICP Iteration #8: Fitness 0.0119, RMSE 0.0178', '[Open3D DEBUG] ICP Iteration #9: Fitness 0.0120, RMSE 0.0178', '[Open3D DEBUG] ICP Iteration #10: Fitness 0.0121, RMSE 0.0177', '[Open3D DEBUG] ICP Iteration #11: Fitness 0.0121, RMSE 0.0177', '[Open3D DEBUG] ICP Iteration #12: Fitness 0.0122, RMSE 0.0177', '[Open3D DEBUG] ICP Iteration #13: Fitness 0.0122, RMSE 0.0177', '[Open3D DEBUG] ICP Iteration #14: Fitness 0.0123, RMSE 0.0177', '[Open3D DEBUG] ICP Iteration #15: Fitness 0.0123, RMSE 0.0177', '[Open3D DEBUG] ICP Iteration #16: Fitness 0.0123, RMSE 0.0177', '[Open3D DEBUG] ICP Iteration #17: Fitness 0.0123, RMSE 0.0177', '[Open3D DEBUG] ICP Iteration #18: Fitness 0.0124, RMSE 0.0177', '[Open3D DEBUG] ICP Iteration #19: Fitness 0.0124, RMSE 0.0177', '[Open3D DEBUG] ICP Iteration #20: Fitness 0.0124, RMSE 0.0177', '[Open3D DEBUG] ICP Iteration #21: Fitness 0.0124, RMSE 0.0177', '[Open3D DEBUG] ICP Iteration #22: Fitness 0.0125, RMSE 0.0177', '[Open3D DEBUG] ICP Iteration #23: Fitness 0.0125, RMSE 0.0177', '[Open3D DEBUG] ICP Iteration #24: Fitness 0.0125, RMSE 0.0177', '[Open3D DEBUG] ICP Iteration #25: Fitness 0.0125, RMSE 0.0177', '[Open3D DEBUG] ICP Iteration #26: Fitness 0.0125, RMSE 0.0177', '[Open3D DEBUG] ICP Iteration #27: Fitness 0.0126, RMSE 0.0177', '[Open3D DEBUG] ICP Iteration #28: Fitness 0.0126, RMSE 0.0177', '[Open3D DEBUG] ICP Iteration #29: Fitness 0.0126, RMSE 0.0177']\n"
     ]
    }
   ],
   "source": [
    "print(len(lines), lines)"
   ]
  },
  {
   "cell_type": "code",
   "execution_count": 42,
   "id": "03dcd58a",
   "metadata": {},
   "outputs": [
    {
     "name": "stdout",
     "output_type": "stream",
     "text": [
      "[Open3D DEBUG] ICP Iteration #2: Fitness 0.0121, RMSE 0.1371\n"
     ]
    }
   ],
   "source": [
    "print(lines[2])"
   ]
  },
  {
   "cell_type": "code",
   "execution_count": 43,
   "id": "2a2302e2",
   "metadata": {},
   "outputs": [],
   "source": [
    "import re"
   ]
  },
  {
   "cell_type": "code",
   "execution_count": 44,
   "id": "764584c1",
   "metadata": {
    "scrolled": true
   },
   "outputs": [],
   "source": [
    "def extract_numbers_from_string(string):\n",
    "    numbers=[]\n",
    "    # This regular expression pattern matches integers and floating-point numbers.\n",
    "    match_number = re.compile('-?\\ *[0-9]+\\.?[0-9]*(?:[Ee]\\ *-?\\ *[0-9]+)?')\n",
    "    for num in re.findall(match_number, string):\n",
    "        if num!='.': \n",
    "            numbers.append(float(num))\n",
    "    return numbers"
   ]
  },
  {
   "cell_type": "code",
   "execution_count": 45,
   "id": "9c6af648",
   "metadata": {},
   "outputs": [],
   "source": [
    "# mystr = 'validations.'\n",
    "# print(mystr.isnumeric(float(mystr)))"
   ]
  },
  {
   "cell_type": "code",
   "execution_count": 46,
   "id": "f4f3982d",
   "metadata": {},
   "outputs": [
    {
     "name": "stdout",
     "output_type": "stream",
     "text": [
      "[3.0, 0.0, 0.0069, 0.1798]\n",
      "[3.0, 1.0, 0.0102, 0.1483]\n",
      "[3.0, 2.0, 0.0121, 0.1371]\n",
      "[3.0, 3.0, 0.0137, 0.1316]\n",
      "[3.0, 4.0, 0.015, 0.1261]\n",
      "[3.0, 5.0, 0.0162, 0.124]\n",
      "[3.0, 6.0, 0.0173, 0.1204]\n",
      "[3.0, 7.0, 0.0182, 0.1173]\n",
      "[3.0, 8.0, 0.0191, 0.1152]\n",
      "[3.0, 9.0, 0.0199, 0.114]\n",
      "[3.0, 10.0, 0.0207, 0.1129]\n",
      "[3.0, 11.0, 0.0214, 0.1129]\n",
      "[3.0, 12.0, 0.0221, 0.1121]\n",
      "[3.0, 13.0, 0.0227, 0.1116]\n",
      "[3.0, 14.0, 0.0233, 0.1108]\n",
      "[3.0, 15.0, 0.024, 0.1105]\n",
      "[3.0, 16.0, 0.0245, 0.1104]\n",
      "[3.0, 17.0, 0.025, 0.1103]\n",
      "[3.0, 18.0, 0.0256, 0.1102]\n",
      "[3.0, 19.0, 0.026, 0.1098]\n",
      "[3.0, 20.0, 0.0265, 0.1091]\n",
      "[3.0, 21.0, 0.027, 0.1085]\n",
      "[3.0, 22.0, 0.0274, 0.108]\n",
      "[3.0, 23.0, 0.0278, 0.1086]\n",
      "[3.0, 24.0, 0.0283, 0.1089]\n",
      "[3.0, 25.0, 0.0287, 0.1092]\n",
      "[3.0, 26.0, 0.0291, 0.1094]\n",
      "[3.0, 27.0, 0.0296, 0.1094]\n",
      "[3.0, 28.0, 0.03, 0.1097]\n",
      "[3.0, 29.0, 0.0304, 0.11]\n",
      "[3.0, 0.0, 0.0102, 0.0179]\n",
      "[3.0, 1.0, 0.0106, 0.0179]\n",
      "[3.0, 2.0, 0.0109, 0.0179]\n",
      "[3.0, 3.0, 0.0112, 0.018]\n",
      "[3.0, 4.0, 0.0114, 0.0179]\n",
      "[3.0, 5.0, 0.0116, 0.0179]\n",
      "[3.0, 6.0, 0.0117, 0.0179]\n",
      "[3.0, 7.0, 0.0118, 0.0178]\n",
      "[3.0, 8.0, 0.0119, 0.0178]\n",
      "[3.0, 9.0, 0.012, 0.0178]\n",
      "[3.0, 10.0, 0.0121, 0.0177]\n",
      "[3.0, 11.0, 0.0121, 0.0177]\n",
      "[3.0, 12.0, 0.0122, 0.0177]\n",
      "[3.0, 13.0, 0.0122, 0.0177]\n",
      "[3.0, 14.0, 0.0123, 0.0177]\n",
      "[3.0, 15.0, 0.0123, 0.0177]\n",
      "[3.0, 16.0, 0.0123, 0.0177]\n",
      "[3.0, 17.0, 0.0123, 0.0177]\n",
      "[3.0, 18.0, 0.0124, 0.0177]\n",
      "[3.0, 19.0, 0.0124, 0.0177]\n",
      "[3.0, 20.0, 0.0124, 0.0177]\n",
      "[3.0, 21.0, 0.0124, 0.0177]\n",
      "[3.0, 22.0, 0.0125, 0.0177]\n",
      "[3.0, 23.0, 0.0125, 0.0177]\n",
      "[3.0, 24.0, 0.0125, 0.0177]\n",
      "[3.0, 25.0, 0.0125, 0.0177]\n",
      "[3.0, 26.0, 0.0125, 0.0177]\n",
      "[3.0, 27.0, 0.0126, 0.0177]\n",
      "[3.0, 28.0, 0.0126, 0.0177]\n",
      "[3.0, 29.0, 0.0126, 0.0177]\n"
     ]
    }
   ],
   "source": [
    "iterations, fitness, rmse = [], [], []\n",
    "for line in lines:\n",
    "    nums = extract_numbers_from_string(line)\n",
    "    print(nums)\n",
    "    iterations.append(int(nums[1]))\n",
    "    fitness.append(nums[2])\n",
    "    rmse.append(nums[3])\n",
    "    "
   ]
  },
  {
   "cell_type": "code",
   "execution_count": 47,
   "id": "c95348d8",
   "metadata": {},
   "outputs": [],
   "source": [
    "# create pandas dataframe\n",
    "df = pd.DataFrame({'iteration': iterations, 'fitness': fitness, 'rmse': rmse})\n"
   ]
  },
  {
   "cell_type": "code",
   "execution_count": 48,
   "id": "ba3e1c06",
   "metadata": {},
   "outputs": [],
   "source": [
    "# export dataframe to csv\n",
    "df.to_csv(file_path + 'converted_doc.csv', index=False)"
   ]
  },
  {
   "cell_type": "code",
   "execution_count": 65,
   "id": "aef079cd",
   "metadata": {},
   "outputs": [],
   "source": [
    "#Load dataframe\n",
    "file_path = '/home/mekala/Pictures/multiway registration/'\n",
    "df = pd.read_csv(file_path + 'converted_doc.csv')"
   ]
  },
  {
   "cell_type": "code",
   "execution_count": 66,
   "id": "47a59ba0",
   "metadata": {},
   "outputs": [],
   "source": [
    "df_first_30 = df.iloc[:30]\n",
    "df_last_30 = df.iloc[:len(df)-30]"
   ]
  },
  {
   "cell_type": "code",
   "execution_count": 67,
   "id": "ee7f8551",
   "metadata": {},
   "outputs": [],
   "source": [
    "import matplotlib.pyplot as plt"
   ]
  },
  {
   "cell_type": "code",
   "execution_count": 68,
   "id": "bafcac54",
   "metadata": {},
   "outputs": [
    {
     "data": {
      "text/plain": [
       "<Axes: xlabel='iteration'>"
      ]
     },
     "execution_count": 68,
     "metadata": {},
     "output_type": "execute_result"
    },
    {
     "data": {
      "image/png": "[encoded data removed]",
      "text/plain": [
       "<Figure size 640x480 with 1 Axes>"
      ]
     },
     "metadata": {},
     "output_type": "display_data"
    }
   ],
   "source": [
    "# Get current axis\n",
    "ax = plt.gca()\n",
    " \n",
    "# line plot for fitness first iteration cycle\n",
    "df_first_30.plot(kind='line',\n",
    "                 x='iteration',\n",
    "                 y='fitness',\n",
    "                 grid=True,\n",
    "                 color='green', ax=ax)\n",
    " \n",
    "# # line plot for fitness second iteration cycle\n",
    "# df_last_30.plot(kind='line', \n",
    "#                 x='iteration',\n",
    "#                 y='fitness',\n",
    "#                 color='blue', ax=ax)\n",
    "\n"
   ]
  },
  {
   "cell_type": "code",
   "execution_count": 69,
   "id": "d71e7d24",
   "metadata": {},
   "outputs": [
    {
     "data": {
      "text/plain": [
       "<Axes: xlabel='iteration'>"
      ]
     },
     "execution_count": 69,
     "metadata": {},
     "output_type": "execute_result"
    },
    {
     "data": {
      "image/png": "[encoded data removed]",
      "text/plain": [
       "<Figure size 640x480 with 1 Axes>"
      ]
     },
     "metadata": {},
     "output_type": "display_data"
    }
   ],
   "source": [
    "# Get current axis\n",
    "ax = plt.gca()\n",
    " \n",
    "# # line plot for rmse first iteration cycle\n",
    "# df_first_30.plot(kind='line',\n",
    "#         x='iteration',\n",
    "#         y='rmse',\n",
    "#         color='green', ax=ax)\n",
    " \n",
    "# line plot for rmse second iteration cycle\n",
    "df_last_30.plot(kind='line', \n",
    "                x='iteration',\n",
    "                y='rmse',\n",
    "                grid=True,\n",
    "                color='blue', ax=ax)\n",
    "\n"
   ]
  },
  {
   "cell_type": "code",
   "execution_count": 70,
   "id": "a0a6e665",
   "metadata": {},
   "outputs": [
    {
     "data": {
      "text/plain": [
       "<Axes: xlabel='iteration'>"
      ]
     },
     "execution_count": 70,
     "metadata": {},
     "output_type": "execute_result"
    },
    {
     "data": {
      "image/png": "[encoded data removed]",
      "text/plain": [
       "<Figure size 640x480 with 1 Axes>"
      ]
     },
     "metadata": {},
     "output_type": "display_data"
    }
   ],
   "source": [
    "#rmse and fitness \n",
    "# Get current axis\n",
    "ax = plt.gca()\n",
    "# line plot for rmse second iteration cycle\n",
    "df_last_30.plot(kind='line', \n",
    "                x='iteration',\n",
    "                y='rmse',\n",
    "                grid=True,\n",
    "                color='blue', ax=ax)\n",
    "\n",
    "# line plot for fitness second iteration cycle\n",
    "df_last_30.plot(kind='line', \n",
    "                x='iteration',\n",
    "                y='fitness',\n",
    "                grid=True,\n",
    "                color='red', ax=ax)\n"
   ]
  },
  {
   "cell_type": "code",
   "execution_count": null,
   "id": "28e60500",
   "metadata": {},
   "outputs": [],
   "source": []
  }
 ],
 "metadata": {
  "kernelspec": {
   "display_name": "Python 3 (ipykernel)",
   "language": "python",
   "name": "python3"
  },
  "language_info": {
   "codemirror_mode": {
    "name": "ipython",
    "version": 3
   },
   "file_extension": ".py",
   "mimetype": "text/x-python",
   "name": "python",
   "nbconvert_exporter": "python",
   "pygments_lexer": "ipython3",
   "version": "3.10.9"
  }
 },
 "nbformat": 4,
 "nbformat_minor": 5
}
