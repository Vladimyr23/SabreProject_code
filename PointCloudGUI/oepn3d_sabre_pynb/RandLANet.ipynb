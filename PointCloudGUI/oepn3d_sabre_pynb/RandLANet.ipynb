{
 "cells": [
  {
   "cell_type": "markdown",
   "id": "cfe53dd4",
   "metadata": {},
   "source": [
    "# Tutorial at:https://medium.com/@kidargueta/semantic-segmentation-with-open3d-ml-pytorch-backend-and-a-custom-dataset-b82e324ebe95"
   ]
  },
  {
   "cell_type": "code",
   "execution_count": 2,
   "id": "3f696615",
   "metadata": {
    "scrolled": true
   },
   "outputs": [
    {
     "ename": "TypeError",
     "evalue": "sequence item 0: expected str instance, int found",
     "output_type": "error",
     "traceback": [
      "\u001b[0;31m---------------------------------------------------------------------------\u001b[0m",
      "\u001b[0;31mTypeError\u001b[0m                                 Traceback (most recent call last)",
      "Cell \u001b[0;32mIn[2], line 4\u001b[0m\n\u001b[1;32m      2\u001b[0m \u001b[38;5;28;01mimport\u001b[39;00m \u001b[38;5;21;01mopen3d\u001b[39;00m \u001b[38;5;28;01mas\u001b[39;00m \u001b[38;5;21;01mo3d\u001b[39;00m\n\u001b[1;32m      3\u001b[0m \u001b[38;5;28;01mimport\u001b[39;00m \u001b[38;5;21;01mopen3d\u001b[39;00m\u001b[38;5;21;01m.\u001b[39;00m\u001b[38;5;21;01mml\u001b[39;00m \u001b[38;5;28;01mas\u001b[39;00m \u001b[38;5;21;01m_ml3d\u001b[39;00m\n\u001b[0;32m----> 4\u001b[0m \u001b[38;5;28;01mimport\u001b[39;00m \u001b[38;5;21;01mopen3d\u001b[39;00m\u001b[38;5;21;01m.\u001b[39;00m\u001b[38;5;21;01mml\u001b[39;00m\u001b[38;5;21;01m.\u001b[39;00m\u001b[38;5;21;01mtorch\u001b[39;00m \u001b[38;5;28;01mas\u001b[39;00m \u001b[38;5;21;01mml3d\u001b[39;00m\n\u001b[1;32m      6\u001b[0m \u001b[38;5;28;01mimport\u001b[39;00m \u001b[38;5;21;01mnumpy\u001b[39;00m \u001b[38;5;28;01mas\u001b[39;00m \u001b[38;5;21;01mnp\u001b[39;00m\n\u001b[1;32m      8\u001b[0m \u001b[38;5;28;01mimport\u001b[39;00m \u001b[38;5;21;01mglob\u001b[39;00m\n",
      "File \u001b[0;32m~/anaconda3/envs/open3d310/lib/python3.10/site-packages/open3d/ml/torch/__init__.py:38\u001b[0m\n\u001b[1;32m     36\u001b[0m \u001b[38;5;66;03m# Check match with PyTorch version, any patch level is OK\u001b[39;00m\n\u001b[1;32m     37\u001b[0m \u001b[38;5;28;01mif\u001b[39;00m _verp(_torch\u001b[38;5;241m.\u001b[39m__version__)\u001b[38;5;241m.\u001b[39mrelease[:\u001b[38;5;241m2\u001b[39m] \u001b[38;5;241m!=\u001b[39m _o3d_torch_version\u001b[38;5;241m.\u001b[39mrelease[:\u001b[38;5;241m2\u001b[39m]:\n\u001b[0;32m---> 38\u001b[0m     match_torch_ver \u001b[38;5;241m=\u001b[39m \u001b[38;5;124;43m'\u001b[39;49m\u001b[38;5;124;43m.\u001b[39;49m\u001b[38;5;124;43m'\u001b[39;49m\u001b[38;5;241;43m.\u001b[39;49m\u001b[43mjoin\u001b[49m\u001b[43m(\u001b[49m\u001b[43m_o3d_torch_version\u001b[49m\u001b[38;5;241;43m.\u001b[39;49m\u001b[43mrelease\u001b[49m\u001b[43m[\u001b[49m\u001b[43m:\u001b[49m\u001b[38;5;241;43m2\u001b[39;49m\u001b[43m]\u001b[49m\u001b[43m \u001b[49m\u001b[38;5;241;43m+\u001b[39;49m\u001b[43m \u001b[49m\u001b[43m(\u001b[49m\u001b[38;5;124;43m'\u001b[39;49m\u001b[38;5;124;43m*\u001b[39;49m\u001b[38;5;124;43m'\u001b[39;49m\u001b[43m,\u001b[49m\u001b[43m)\u001b[49m\u001b[43m)\u001b[49m\n\u001b[1;32m     39\u001b[0m     \u001b[38;5;28;01mraise\u001b[39;00m \u001b[38;5;167;01mException\u001b[39;00m(\u001b[38;5;124m'\u001b[39m\u001b[38;5;124mVersion mismatch: Open3D needs PyTorch version \u001b[39m\u001b[38;5;132;01m{}\u001b[39;00m\u001b[38;5;124m, but \u001b[39m\u001b[38;5;124m'\u001b[39m\n\u001b[1;32m     40\u001b[0m                     \u001b[38;5;124m'\u001b[39m\u001b[38;5;124mversion \u001b[39m\u001b[38;5;132;01m{}\u001b[39;00m\u001b[38;5;124m is installed!\u001b[39m\u001b[38;5;124m'\u001b[39m\u001b[38;5;241m.\u001b[39mformat(match_torch_ver,\n\u001b[1;32m     41\u001b[0m                                                       _torch\u001b[38;5;241m.\u001b[39m__version__))\n\u001b[1;32m     43\u001b[0m \u001b[38;5;66;03m# Precompiled wheels at\u001b[39;00m\n\u001b[1;32m     44\u001b[0m \u001b[38;5;66;03m# https://github.com/isl-org/open3d_downloads/releases/tag/torch1.8.2\u001b[39;00m\n\u001b[1;32m     45\u001b[0m \u001b[38;5;66;03m# have been compiled with '-Xcompiler -fno-gnu-unique' and have an additional\u001b[39;00m\n\u001b[1;32m     46\u001b[0m \u001b[38;5;66;03m# attribute that we test here. Print a warning if the attribute is missing.\u001b[39;00m\n",
      "\u001b[0;31mTypeError\u001b[0m: sequence item 0: expected str instance, int found"
     ]
    }
   ],
   "source": [
    "import os\n",
    "import open3d as o3d\n",
    "import open3d.ml as _ml3d\n",
    "import open3d.ml.torch as ml3d\n",
    "\n",
    "import numpy as np\n",
    "\n",
    "import glob"
   ]
  },
  {
   "cell_type": "code",
   "execution_count": null,
   "id": "4f7d1787",
   "metadata": {},
   "outputs": [],
   "source": [
    "import torch\n",
    "\n",
    "#Torch Cuda verification\n",
    "torch.cuda.is_available()"
   ]
  },
  {
   "cell_type": "code",
   "execution_count": 1,
   "id": "3bea125b",
   "metadata": {},
   "outputs": [
    {
     "ename": "NameError",
     "evalue": "name '_ml3d' is not defined",
     "output_type": "error",
     "traceback": [
      "\u001b[0;31m---------------------------------------------------------------------------\u001b[0m",
      "\u001b[0;31mNameError\u001b[0m                                 Traceback (most recent call last)",
      "Cell \u001b[0;32mIn[1], line 3\u001b[0m\n\u001b[1;32m      1\u001b[0m \u001b[38;5;66;03m# Load an ML configuration file\u001b[39;00m\n\u001b[1;32m      2\u001b[0m cfg_file \u001b[38;5;241m=\u001b[39m \u001b[38;5;124m\"\u001b[39m\u001b[38;5;124m/home/PycharmProjects/Open3D-ML-master/ml3d/configs/randlanet_semantickitti.yml\u001b[39m\u001b[38;5;124m\"\u001b[39m\n\u001b[0;32m----> 3\u001b[0m cfg \u001b[38;5;241m=\u001b[39m \u001b[43m_ml3d\u001b[49m\u001b[38;5;241m.\u001b[39mutils\u001b[38;5;241m.\u001b[39mConfig\u001b[38;5;241m.\u001b[39mload_from_file(cfg_file)\n",
      "\u001b[0;31mNameError\u001b[0m: name '_ml3d' is not defined"
     ]
    }
   ],
   "source": [
    "# Load an ML configuration file\n",
    "cfg_file = \"/home/PycharmProjects/Open3D-ML-master/ml3d/configs/randlanet_semantickitti.yml\"\n",
    "cfg = _ml3d.utils.Config.load_from_file(cfg_file)"
   ]
  },
  {
   "cell_type": "code",
   "execution_count": null,
   "id": "0f56c2fa",
   "metadata": {},
   "outputs": [],
   "source": []
  }
 ],
 "metadata": {
  "kernelspec": {
   "display_name": "Python [conda env:open3d310]",
   "language": "python",
   "name": "conda-env-open3d310-py"
  },
  "language_info": {
   "codemirror_mode": {
    "name": "ipython",
    "version": 3
   },
   "file_extension": ".py",
   "mimetype": "text/x-python",
   "name": "python",
   "nbconvert_exporter": "python",
   "pygments_lexer": "ipython3",
   "version": "3.10.11"
  }
 },
 "nbformat": 4,
 "nbformat_minor": 5
}
